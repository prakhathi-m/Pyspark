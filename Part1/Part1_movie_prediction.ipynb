{
 "cells": [
  {
   "cell_type": "code",
   "execution_count": 1,
   "metadata": {
    "colab": {},
    "colab_type": "code",
    "id": "fFbrBls6ZsKd"
   },
   "outputs": [],
   "source": [
    "import findspark\n",
    "findspark.init('/home/cse587/spark-2.4.0-bin-hadoop2.7')\n",
    "import pyspark\n",
    "from pyspark.sql import *\n",
    "import pandas as pd\n",
    "from pyspark.sql.types import ArrayType,StringType,DoubleType\n",
    "from pyspark.mllib.linalg import SparseVector, DenseVector\n",
    "from pyspark.sql.functions import *"
   ]
  },
  {
   "cell_type": "code",
   "execution_count": 2,
   "metadata": {
    "colab": {},
    "colab_type": "code",
    "id": "JUYZK_NFZwNR"
   },
   "outputs": [],
   "source": [
    "sc=pyspark.SparkContext()\n",
    "\n",
    "spark= SparkSession \\\n",
    "        .builder \\\n",
    "        .appName(\"PART 1\") \\\n",
    "        .config(\"spark.some.config.option\",\"15g\") \\\n",
    "        .getOrCreate()"
   ]
  },
  {
   "cell_type": "code",
   "execution_count": 3,
   "metadata": {
    "colab": {
     "base_uri": "https://localhost:8080/",
     "height": 646
    },
    "colab_type": "code",
    "id": "2I62ZVvzZ9s0",
    "outputId": "85ba48b8-9178-496c-d147-9656bbe7452b"
   },
   "outputs": [
    {
     "name": "stdout",
     "output_type": "stream",
     "text": [
      "+--------+--------------------+--------------------+--------------------+\n",
      "|movie_id|          movie_name|                plot|               genre|\n",
      "+--------+--------------------+--------------------+--------------------+\n",
      "|23890098|          Taxi Blues|Shlykov, a hard-w...|['World cinema', ...|\n",
      "|31186339|    The Hunger Games|The nation of Pan...|['Action/Adventur...|\n",
      "|20663735|          Narasimham|Poovalli Induchoo...|['Musical', 'Acti...|\n",
      "| 2231378|  The Lemon Drop Kid|The Lemon Drop Ki...|          ['Comedy']|\n",
      "|  595909|   A Cry in the Dark|Seventh-day Adven...|['Crime Fiction',...|\n",
      "| 5272176|            End Game|The president is ...|['Action/Adventur...|\n",
      "| 1952976|          Dark Water|{{plot}} The film...|['Thriller', 'Dra...|\n",
      "|24225279|                Sing|The story begins ...|           ['Drama']|\n",
      "| 2462689|       Meet John Doe|Infuriated at bei...|['Black-and-white...|\n",
      "|20532852|Destination Meatball|A line of people ...|['Animation', 'Sh...|\n",
      "|15401493|    Husband for Hire|Lola  attempts to...|          ['Comedy']|\n",
      "|18188932|         Up and Down|Milan and Goran a...|['Crime Fiction',...|\n",
      "| 2940516|Ghost In The Noon...|Bumbling pirate c...|          ['Comedy']|\n",
      "| 1480747|       House Party 2|{{plot}} Followin...|          ['Comedy']|\n",
      "|24448645|Forest of the Dam...|Despite Lucy's re...|          ['Horror']|\n",
      "|15072401|Charlie Chan's Se...|Alan Colby, heir ...|['Crime Fiction',...|\n",
      "| 4018288|     The Biggest Fan|Debbie's favorite...|           ['Drama']|\n",
      "| 4596602|      Ashes to Ashes|Ashes to Ashes is...|['Crime Fiction',...|\n",
      "|15224586|        Green Dragon|The film follows ...|  ['Indie', 'Drama']|\n",
      "|15585766|  The Rats of Tobruk|Three friends are...|           ['Drama']|\n",
      "+--------+--------------------+--------------------+--------------------+\n",
      "only showing top 20 rows\n",
      "\n",
      "root\n",
      " |-- movie_id: long (nullable = true)\n",
      " |-- movie_name: string (nullable = true)\n",
      " |-- plot: string (nullable = true)\n",
      " |-- genre: string (nullable = true)\n",
      "\n"
     ]
    }
   ],
   "source": [
    "\n",
    "# df = spark.read.load(\"sample-movie-train.csv\",format=\"csv\", sep=\",\",inferSchema='true', header='true')\n",
    "\n",
    "import pandas as pd\n",
    "from pyspark.sql import SQLContext\n",
    "p_df = pd.read_csv(\"train.csv\")\n",
    "# print(p_df)\n",
    "sqlCtx = SQLContext(sc)\n",
    "df = sqlCtx.createDataFrame(p_df)\n",
    "df.show()\n",
    "df.printSchema()"
   ]
  },
  {
   "cell_type": "code",
   "execution_count": 4,
   "metadata": {},
   "outputs": [
    {
     "name": "stdout",
     "output_type": "stream",
     "text": [
      "root\n",
      " |-- movie_id: long (nullable = true)\n",
      " |-- movie_name: string (nullable = true)\n",
      " |-- plot: string (nullable = true)\n",
      "\n"
     ]
    }
   ],
   "source": [
    "import pandas as pd\n",
    "from pyspark.sql import SQLContext\n",
    "test = pd.read_csv(\"test.csv\")\n",
    "# print(p_df)\n",
    "sqlCtx = SQLContext(sc)\n",
    "test = sqlCtx.createDataFrame(test)\n",
    "test.printSchema()"
   ]
  },
  {
   "cell_type": "code",
   "execution_count": 5,
   "metadata": {
    "colab": {
     "base_uri": "https://localhost:8080/",
     "height": 459
    },
    "colab_type": "code",
    "id": "tozly3H8kTxl",
    "outputId": "5f46219e-535e-468a-a776-db67a113b66f"
   },
   "outputs": [],
   "source": [
    "df_map = spark.read.load(\"mapping.csv\",format=\"csv\", sep=\",\",inferSchema='true', header='true')\n",
    "dd_map= df_map.select(\"0\").collect()[:]\n",
    "\n",
    "def map_gen(x):\n",
    "    output_array=[]\n",
    "    for gen in dd_map:\n",
    "        if gen[0] in x:\n",
    "            output_array.append(1)\n",
    "        else:\n",
    "            output_array.append(0)\n",
    "    return output_array\n",
    "             \n",
    "mapper = udf(map_gen,ArrayType(StringType()))\n",
    "genre_mapped = df.withColumn(\"mapped_genre\", mapper(\"genre\"))"
   ]
  },
  {
   "cell_type": "code",
   "execution_count": 6,
   "metadata": {
    "colab": {
     "base_uri": "https://localhost:8080/",
     "height": 479
    },
    "colab_type": "code",
    "id": "5PC90z9GlgV5",
    "outputId": "c11c0406-3996-468e-f384-e47e98172efd"
   },
   "outputs": [
    {
     "name": "stdout",
     "output_type": "stream",
     "text": [
      "+--------+--------------------+--------------------+--------------------+--------------------+-------+-------+-------+-------+-------+-------+-------+-------+-------+-------+--------+--------+--------+--------+--------+--------+--------+--------+--------+--------+\n",
      "|movie_id|          movie_name|                plot|               genre|        mapped_genre|label_0|label_1|label_2|label_3|label_4|label_5|label_6|label_7|label_8|label_9|label_10|label_11|label_12|label_13|label_14|label_15|label_16|label_17|label_18|label_19|\n",
      "+--------+--------------------+--------------------+--------------------+--------------------+-------+-------+-------+-------+-------+-------+-------+-------+-------+-------+--------+--------+--------+--------+--------+--------+--------+--------+--------+--------+\n",
      "|23890098|          Taxi Blues|Shlykov, a hard-w...|['World cinema', ...|[1, 0, 0, 0, 0, 1...|      1|      0|      0|      0|      0|      1|      0|      0|      0|      0|       0|       0|       0|       0|       0|       0|       0|       0|       0|       0|\n",
      "|31186339|    The Hunger Games|The nation of Pan...|['Action/Adventur...|[1, 0, 0, 0, 1, 0...|      1|      0|      0|      0|      1|      0|      0|      0|      0|      0|       1|       1|       0|       0|       0|       0|       0|       1|       0|       0|\n",
      "|20663735|          Narasimham|Poovalli Induchoo...|['Musical', 'Acti...|[1, 0, 0, 0, 1, 0...|      1|      0|      0|      0|      1|      0|      0|      0|      0|      0|       0|       0|       0|       0|       0|       0|       1|       0|       0|       0|\n",
      "| 2231378|  The Lemon Drop Kid|The Lemon Drop Ki...|          ['Comedy']|[0, 1, 0, 0, 0, 0...|      0|      1|      0|      0|      0|      0|      0|      0|      0|      0|       0|       0|       0|       0|       0|       0|       0|       0|       0|       0|\n",
      "|  595909|   A Cry in the Dark|Seventh-day Adven...|['Crime Fiction',...|[1, 0, 0, 0, 0, 1...|      1|      0|      0|      0|      0|      1|      1|      0|      0|      0|       0|       0|       0|       0|       0|       0|       0|       0|       0|       0|\n",
      "| 5272176|            End Game|The president is ...|['Action/Adventur...|[1, 0, 0, 1, 1, 0...|      1|      0|      0|      1|      1|      0|      0|      0|      0|      0|       1|       1|       0|       0|       0|       0|       0|       0|       0|       0|\n",
      "| 1952976|          Dark Water|{{plot}} The film...|['Thriller', 'Dra...|[1, 0, 0, 1, 0, 0...|      1|      0|      0|      1|      0|      0|      0|      1|      0|      0|       0|       0|       0|       0|       0|       0|       0|       0|       0|       0|\n",
      "|24225279|                Sing|The story begins ...|           ['Drama']|[1, 0, 0, 0, 0, 0...|      1|      0|      0|      0|      0|      0|      0|      0|      0|      0|       0|       0|       0|       0|       0|       0|       0|       0|       0|       0|\n",
      "| 2462689|       Meet John Doe|Infuriated at bei...|['Black-and-white...|[1, 1, 1, 0, 0, 0...|      1|      1|      1|      0|      0|      0|      0|      0|      1|      0|       0|       0|       0|       0|       0|       0|       0|       0|       0|       1|\n",
      "|20532852|Destination Meatball|A line of people ...|['Animation', 'Sh...|[0, 0, 0, 0, 0, 0...|      0|      0|      0|      0|      0|      0|      0|      0|      0|      0|       0|       0|       1|       1|       0|       1|       0|       0|       0|       0|\n",
      "|15401493|    Husband for Hire|Lola  attempts to...|          ['Comedy']|[0, 1, 0, 0, 0, 0...|      0|      1|      0|      0|      0|      0|      0|      0|      0|      0|       0|       0|       0|       0|       0|       0|       0|       0|       0|       0|\n",
      "|18188932|         Up and Down|Milan and Goran a...|['Crime Fiction',...|[1, 1, 0, 0, 0, 1...|      1|      1|      0|      0|      0|      1|      1|      0|      0|      0|       0|       0|       0|       0|       0|       0|       0|       0|       0|       0|\n",
      "| 2940516|Ghost In The Noon...|Bumbling pirate c...|          ['Comedy']|[0, 1, 0, 0, 0, 0...|      0|      1|      0|      0|      0|      0|      0|      0|      0|      0|       0|       0|       0|       0|       0|       0|       0|       0|       0|       0|\n",
      "| 1480747|       House Party 2|{{plot}} Followin...|          ['Comedy']|[0, 1, 0, 0, 0, 0...|      0|      1|      0|      0|      0|      0|      0|      0|      0|      0|       0|       0|       0|       0|       0|       0|       0|       0|       0|       0|\n",
      "|24448645|Forest of the Dam...|Despite Lucy's re...|          ['Horror']|[0, 0, 0, 0, 0, 0...|      0|      0|      0|      0|      0|      0|      0|      1|      0|      0|       0|       0|       0|       0|       0|       0|       0|       0|       0|       0|\n",
      "|15072401|Charlie Chan's Se...|Alan Colby, heir ...|['Crime Fiction',...|[0, 0, 0, 1, 0, 0...|      0|      0|      0|      1|      0|      0|      1|      1|      0|      0|       0|       0|       0|       0|       0|       0|       0|       0|       1|       0|\n",
      "| 4018288|     The Biggest Fan|Debbie's favorite...|           ['Drama']|[1, 0, 0, 0, 0, 0...|      1|      0|      0|      0|      0|      0|      0|      0|      0|      0|       0|       0|       0|       0|       0|       0|       0|       0|       0|       0|\n",
      "| 4596602|      Ashes to Ashes|Ashes to Ashes is...|['Crime Fiction',...|[0, 0, 1, 1, 1, 0...|      0|      0|      1|      1|      1|      0|      1|      0|      0|      1|       0|       0|       0|       0|       0|       0|       0|       0|       0|       0|\n",
      "|15224586|        Green Dragon|The film follows ...|  ['Indie', 'Drama']|[1, 0, 0, 0, 0, 0...|      1|      0|      0|      0|      0|      0|      0|      0|      0|      1|       0|       0|       0|       0|       0|       0|       0|       0|       0|       0|\n",
      "|15585766|  The Rats of Tobruk|Three friends are...|           ['Drama']|[1, 0, 0, 0, 0, 0...|      1|      0|      0|      0|      0|      0|      0|      0|      0|      0|       0|       0|       0|       0|       0|       0|       0|       0|       0|       0|\n",
      "+--------+--------------------+--------------------+--------------------+--------------------+-------+-------+-------+-------+-------+-------+-------+-------+-------+-------+--------+--------+--------+--------+--------+--------+--------+--------+--------+--------+\n",
      "only showing top 20 rows\n",
      "\n"
     ]
    }
   ],
   "source": [
    "num_label = len(dd_map)\n",
    "result = genre_mapped.select(['movie_id', 'movie_name', 'plot', 'genre', 'mapped_genre']+[expr('mapped_genre[' + str(x) + ']') for x in range(0, num_label)])\n",
    "\n",
    "new_colnames = ['movie_id', 'movie_name', 'plot', 'genre', 'mapped_genre'] + ['label_' + str(i) for i in range(0, num_label)] \n",
    "result = result.toDF(*new_colnames)\n",
    "result.show()"
   ]
  },
  {
   "cell_type": "code",
   "execution_count": 7,
   "metadata": {
    "colab": {
     "base_uri": "https://localhost:8080/",
     "height": 921
    },
    "colab_type": "code",
    "id": "Z7JHWaUFln0G",
    "outputId": "54c4010e-8ba3-40ca-ba15-e18d167ccaaf"
   },
   "outputs": [
    {
     "name": "stdout",
     "output_type": "stream",
     "text": [
      "+--------+--------------------+--------------------+--------------------+--------------------+-------+-------+-------+-------+-------+-------+-------+-------+-------+-------+--------+--------+--------+--------+--------+--------+--------+--------+--------+--------+\n",
      "|movie_id|          movie_name|                plot|               genre|        mapped_genre|label_0|label_1|label_2|label_3|label_4|label_5|label_6|label_7|label_8|label_9|label_10|label_11|label_12|label_13|label_14|label_15|label_16|label_17|label_18|label_19|\n",
      "+--------+--------------------+--------------------+--------------------+--------------------+-------+-------+-------+-------+-------+-------+-------+-------+-------+-------+--------+--------+--------+--------+--------+--------+--------+--------+--------+--------+\n",
      "|23890098|          Taxi Blues|Shlykov, a hard-w...|['World cinema', ...|[1, 0, 0, 0, 0, 1...|      1|      0|      0|      0|      0|      1|      0|      0|      0|      0|       0|       0|       0|       0|       0|       0|       0|       0|       0|       0|\n",
      "|31186339|    The Hunger Games|The nation of Pan...|['Action/Adventur...|[1, 0, 0, 0, 1, 0...|      1|      0|      0|      0|      1|      0|      0|      0|      0|      0|       1|       1|       0|       0|       0|       0|       0|       1|       0|       0|\n",
      "|20663735|          Narasimham|Poovalli Induchoo...|['Musical', 'Acti...|[1, 0, 0, 0, 1, 0...|      1|      0|      0|      0|      1|      0|      0|      0|      0|      0|       0|       0|       0|       0|       0|       0|       1|       0|       0|       0|\n",
      "| 2231378|  The Lemon Drop Kid|The Lemon Drop Ki...|          ['Comedy']|[0, 1, 0, 0, 0, 0...|      0|      1|      0|      0|      0|      0|      0|      0|      0|      0|       0|       0|       0|       0|       0|       0|       0|       0|       0|       0|\n",
      "|  595909|   A Cry in the Dark|Seventh-day Adven...|['Crime Fiction',...|[1, 0, 0, 0, 0, 1...|      1|      0|      0|      0|      0|      1|      1|      0|      0|      0|       0|       0|       0|       0|       0|       0|       0|       0|       0|       0|\n",
      "| 5272176|            End Game|The president is ...|['Action/Adventur...|[1, 0, 0, 1, 1, 0...|      1|      0|      0|      1|      1|      0|      0|      0|      0|      0|       1|       1|       0|       0|       0|       0|       0|       0|       0|       0|\n",
      "| 1952976|          Dark Water|{{plot}} The film...|['Thriller', 'Dra...|[1, 0, 0, 1, 0, 0...|      1|      0|      0|      1|      0|      0|      0|      1|      0|      0|       0|       0|       0|       0|       0|       0|       0|       0|       0|       0|\n",
      "|24225279|                Sing|The story begins ...|           ['Drama']|[1, 0, 0, 0, 0, 0...|      1|      0|      0|      0|      0|      0|      0|      0|      0|      0|       0|       0|       0|       0|       0|       0|       0|       0|       0|       0|\n",
      "| 2462689|       Meet John Doe|Infuriated at bei...|['Black-and-white...|[1, 1, 1, 0, 0, 0...|      1|      1|      1|      0|      0|      0|      0|      0|      1|      0|       0|       0|       0|       0|       0|       0|       0|       0|       0|       1|\n",
      "|20532852|Destination Meatball|A line of people ...|['Animation', 'Sh...|[0, 0, 0, 0, 0, 0...|      0|      0|      0|      0|      0|      0|      0|      0|      0|      0|       0|       0|       1|       1|       0|       1|       0|       0|       0|       0|\n",
      "|15401493|    Husband for Hire|Lola  attempts to...|          ['Comedy']|[0, 1, 0, 0, 0, 0...|      0|      1|      0|      0|      0|      0|      0|      0|      0|      0|       0|       0|       0|       0|       0|       0|       0|       0|       0|       0|\n",
      "|18188932|         Up and Down|Milan and Goran a...|['Crime Fiction',...|[1, 1, 0, 0, 0, 1...|      1|      1|      0|      0|      0|      1|      1|      0|      0|      0|       0|       0|       0|       0|       0|       0|       0|       0|       0|       0|\n",
      "| 2940516|Ghost In The Noon...|Bumbling pirate c...|          ['Comedy']|[0, 1, 0, 0, 0, 0...|      0|      1|      0|      0|      0|      0|      0|      0|      0|      0|       0|       0|       0|       0|       0|       0|       0|       0|       0|       0|\n",
      "| 1480747|       House Party 2|{{plot}} Followin...|          ['Comedy']|[0, 1, 0, 0, 0, 0...|      0|      1|      0|      0|      0|      0|      0|      0|      0|      0|       0|       0|       0|       0|       0|       0|       0|       0|       0|       0|\n",
      "|24448645|Forest of the Dam...|Despite Lucy's re...|          ['Horror']|[0, 0, 0, 0, 0, 0...|      0|      0|      0|      0|      0|      0|      0|      1|      0|      0|       0|       0|       0|       0|       0|       0|       0|       0|       0|       0|\n",
      "|15072401|Charlie Chan's Se...|Alan Colby, heir ...|['Crime Fiction',...|[0, 0, 0, 1, 0, 0...|      0|      0|      0|      1|      0|      0|      1|      1|      0|      0|       0|       0|       0|       0|       0|       0|       0|       0|       1|       0|\n",
      "| 4018288|     The Biggest Fan|Debbie's favorite...|           ['Drama']|[1, 0, 0, 0, 0, 0...|      1|      0|      0|      0|      0|      0|      0|      0|      0|      0|       0|       0|       0|       0|       0|       0|       0|       0|       0|       0|\n",
      "| 4596602|      Ashes to Ashes|Ashes to Ashes is...|['Crime Fiction',...|[0, 0, 1, 1, 1, 0...|      0|      0|      1|      1|      1|      0|      1|      0|      0|      1|       0|       0|       0|       0|       0|       0|       0|       0|       0|       0|\n",
      "|15224586|        Green Dragon|The film follows ...|  ['Indie', 'Drama']|[1, 0, 0, 0, 0, 0...|      1|      0|      0|      0|      0|      0|      0|      0|      0|      1|       0|       0|       0|       0|       0|       0|       0|       0|       0|       0|\n",
      "|15585766|  The Rats of Tobruk|Three friends are...|           ['Drama']|[1, 0, 0, 0, 0, 0...|      1|      0|      0|      0|      0|      0|      0|      0|      0|      0|       0|       0|       0|       0|       0|       0|       0|       0|       0|       0|\n",
      "+--------+--------------------+--------------------+--------------------+--------------------+-------+-------+-------+-------+-------+-------+-------+-------+-------+-------+--------+--------+--------+--------+--------+--------+--------+--------+--------+--------+\n",
      "only showing top 20 rows\n",
      "\n",
      "+--------+--------------------+--------------------+\n",
      "|movie_id|          movie_name|                plot|\n",
      "+--------+--------------------+--------------------+\n",
      "| 1335380|              Exodus|The film is based...|\n",
      "|29062594|A la salida nos v...|A group of teenag...|\n",
      "| 9252321|   Come Back, Africa|This story of a Z...|\n",
      "|13455076|       A Merry Mixup|The Stooges play ...|\n",
      "|24165951|        Getting Even|A soldier-of-fort...|\n",
      "| 1925869|  River of No Return|Set in the Northw...|\n",
      "|10799612|          Amici miei|Like in many othe...|\n",
      "|28238240|Mickey's Big Game...|Mickey and the Sc...|\n",
      "|17124781|The Good, the Bad...|In the desert wil...|\n",
      "|28207941|    The Dancing Fool|Bimbo and Koko ar...|\n",
      "|19174305|              Tahaan|Tahaan  lives wit...|\n",
      "|18392317|     Mysterious Mose|Betty is startled...|\n",
      "|34420857|Kelviyum Naane Pa...|Nirmal ([[Karthik...|\n",
      "| 4039635|   First on the Moon|A group of journa...|\n",
      "| 8034072|  Journey of a Woman|Vaibhavari Sahay,...|\n",
      "| 4016437|     Sophie's Choice|In 1947, the movi...|\n",
      "| 1520023|  Ninja Resurrection|Ninja Resurrectio...|\n",
      "|24589422|      Maria’s Lovers|In the spring of ...|\n",
      "|35068740|           Chinnavar|Muthu ([[Prabhu  ...|\n",
      "|21132951|              Aparan|Vishwanathan , an...|\n",
      "+--------+--------------------+--------------------+\n",
      "only showing top 20 rows\n",
      "\n"
     ]
    }
   ],
   "source": [
    "from pyspark.ml.feature import HashingTF, Tokenizer, RegexTokenizer, StopWordsRemover, CountVectorizer, Word2Vec, PCA\n",
    "from pyspark.ml import Pipeline\n",
    "result.show()\n",
    "test.show()\n",
    "regexTokenizer = RegexTokenizer(inputCol=\"plot\", outputCol=\"words\", pattern=\"\\\\W\")\n",
    "remover = StopWordsRemover(inputCol=\"words\", outputCol=\"filtered\")\n",
    "preprocessor = Pipeline(stages=[regexTokenizer, remover])\n",
    "model = preprocessor.fit(result)\n",
    "train = model.transform(result)\n",
    "\n",
    "model = preprocessor.fit(test)\n",
    "test = model.transform(test)"
   ]
  },
  {
   "cell_type": "code",
   "execution_count": 8,
   "metadata": {
    "colab": {
     "base_uri": "https://localhost:8080/",
     "height": 714
    },
    "colab_type": "code",
    "id": "umFUGrJFpaCh",
    "outputId": "273cecc6-04ce-4b7c-eca5-acf5b935b301"
   },
   "outputs": [
    {
     "name": "stdout",
     "output_type": "stream",
     "text": [
      "root\n",
      " |-- movie_id: long (nullable = true)\n",
      " |-- movie_name: string (nullable = true)\n",
      " |-- plot: string (nullable = true)\n",
      " |-- genre: string (nullable = true)\n",
      " |-- mapped_genre: array (nullable = true)\n",
      " |    |-- element: string (containsNull = true)\n",
      " |-- label_0: string (nullable = true)\n",
      " |-- label_1: string (nullable = true)\n",
      " |-- label_2: string (nullable = true)\n",
      " |-- label_3: string (nullable = true)\n",
      " |-- label_4: string (nullable = true)\n",
      " |-- label_5: string (nullable = true)\n",
      " |-- label_6: string (nullable = true)\n",
      " |-- label_7: string (nullable = true)\n",
      " |-- label_8: string (nullable = true)\n",
      " |-- label_9: string (nullable = true)\n",
      " |-- label_10: string (nullable = true)\n",
      " |-- label_11: string (nullable = true)\n",
      " |-- label_12: string (nullable = true)\n",
      " |-- label_13: string (nullable = true)\n",
      " |-- label_14: string (nullable = true)\n",
      " |-- label_15: string (nullable = true)\n",
      " |-- label_16: string (nullable = true)\n",
      " |-- label_17: string (nullable = true)\n",
      " |-- label_18: string (nullable = true)\n",
      " |-- label_19: string (nullable = true)\n",
      " |-- words: array (nullable = true)\n",
      " |    |-- element: string (containsNull = true)\n",
      " |-- filtered: array (nullable = true)\n",
      " |    |-- element: string (containsNull = true)\n",
      "\n",
      "root\n",
      " |-- movie_id: long (nullable = true)\n",
      " |-- movie_name: string (nullable = true)\n",
      " |-- plot: string (nullable = true)\n",
      " |-- words: array (nullable = true)\n",
      " |    |-- element: string (containsNull = true)\n",
      " |-- filtered: array (nullable = true)\n",
      " |    |-- element: string (containsNull = true)\n",
      "\n"
     ]
    }
   ],
   "source": [
    "train.printSchema()\n",
    "test.printSchema()\n"
   ]
  },
  {
   "cell_type": "code",
   "execution_count": 10,
   "metadata": {
    "colab": {
     "base_uri": "https://localhost:8080/",
     "height": 1000
    },
    "colab_type": "code",
    "id": "NOAPgUgopcZ1",
    "outputId": "24323bdd-725f-4656-ede9-566ba4aa1dbb"
   },
   "outputs": [
    {
     "name": "stdout",
     "output_type": "stream",
     "text": [
      "label_0\n",
      "label_1\n",
      "label_2\n",
      "label_3\n",
      "label_4\n",
      "label_5\n",
      "label_6\n",
      "label_7\n",
      "label_8\n",
      "label_9\n",
      "label_10\n",
      "label_11\n",
      "label_12\n",
      "label_13\n",
      "label_14\n",
      "label_15\n",
      "label_16\n",
      "label_17\n",
      "label_18\n",
      "label_19\n"
     ]
    }
   ],
   "source": [
    "from pyspark.ml.feature import HashingTF, IDF\n",
    "\n",
    "from pyspark.ml.classification import LogisticRegression\n",
    "from pyspark.ml.feature import HashingTF, Tokenizer, RegexTokenizer, StopWordsRemover, CountVectorizer, Word2Vec, PCA\n",
    "\n",
    "\n",
    "output = []\n",
    "for i in range(num_label):\n",
    "  label = \"label_\"+str(i)\n",
    "  print(label)\n",
    "  cur_train = train.select(\"movie_id\", \"movie_name\", \"filtered\", \"plot\", label)\n",
    "  cur_train = cur_train.withColumn(label, train[label].cast('float')).select(\"movie_id\", \"movie_name\", \"plot\", \"filtered\", label)\n",
    "  cv = CountVectorizer(inputCol=\"filtered\", outputCol=\"count_features\", minDF=5)\n",
    "\n",
    "  lr = LogisticRegression(maxIter=500, regParam=0.001, featuresCol = 'count_features', labelCol=label)\n",
    "  pipeline = Pipeline(stages=[cv, lr])\n",
    "  # Fit the pipeline to training documents.\n",
    "  model = pipeline.fit(cur_train)\n",
    "\n",
    "  prediction = model.transform(test)\n",
    "  # prediction.show(5)\n",
    "  res = prediction.select('movie_id', 'prediction').collect()\n",
    "  output.append(res)\n",
    "\n",
    "  "
   ]
  },
  {
   "cell_type": "code",
   "execution_count": 11,
   "metadata": {
    "colab": {
     "base_uri": "https://localhost:8080/",
     "height": 85
    },
    "colab_type": "code",
    "id": "RvzS2tHSwiMk",
    "outputId": "bf0995b7-fdf0-4a69-eea3-b652356e915d"
   },
   "outputs": [
    {
     "name": "stdout",
     "output_type": "stream",
     "text": [
      "20\n",
      "7777\n",
      "7777\n",
      "20\n"
     ]
    }
   ],
   "source": [
    "print(len(output))\n",
    "print(len(output[0]))\n",
    "\n",
    "from collections import defaultdict\n",
    "op_dic = defaultdict(list)\n",
    "for row in output:\n",
    "  for i in row:\n",
    "    op_dic[i[\"movie_id\"]].append(i['prediction'])\n",
    "\n",
    "print(len(op_dic))\n",
    "print(len(op_dic[21465561]))\n",
    "\n",
    "import csv\n",
    "with open('sample.csv', 'w') as f:\n",
    "    f.write(\"%s,%s\\n\"%('movie_id', 'predictions'))\n",
    "    for key in op_dic.keys():\n",
    "        f.write(\"%s,%s\\n\"%(key, ' '.join(str(e)[0] for e in op_dic[key])))"
   ]
  },
  {
   "cell_type": "code",
   "execution_count": null,
   "metadata": {},
   "outputs": [],
   "source": []
  }
 ],
 "metadata": {
  "colab": {
   "collapsed_sections": [],
   "name": "DIC3_ PART1.ipynb",
   "provenance": []
  },
  "kernelspec": {
   "display_name": "Python 3",
   "language": "python",
   "name": "python3"
  },
  "language_info": {
   "codemirror_mode": {
    "name": "ipython",
    "version": 3
   },
   "file_extension": ".py",
   "mimetype": "text/x-python",
   "name": "python",
   "nbconvert_exporter": "python",
   "pygments_lexer": "ipython3",
   "version": "3.6.9"
  }
 },
 "nbformat": 4,
 "nbformat_minor": 1
}
